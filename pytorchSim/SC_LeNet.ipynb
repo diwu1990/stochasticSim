{
 "cells": [
  {
   "cell_type": "code",
   "execution_count": 1,
   "metadata": {},
   "outputs": [],
   "source": [
    "import torch\n",
    "import torch.nn as nn\n",
    "import torch.nn.functional as F\n",
    "import torch.optim as optim\n",
    "import torchvision\n",
    "import torchvision.transforms as transforms\n",
    "from torchsummaryX import summary"
   ]
  },
  {
   "cell_type": "code",
   "execution_count": 2,
   "metadata": {
    "scrolled": true
   },
   "outputs": [
    {
     "name": "stdout",
     "output_type": "stream",
     "text": [
      "/home/wudidaizi/Project/stochasticSim/pytorchSim\n"
     ]
    }
   ],
   "source": [
    "import os\n",
    "cwd = os.getcwd()\n",
    "print(cwd)"
   ]
  },
  {
   "cell_type": "code",
   "execution_count": 3,
   "metadata": {
    "scrolled": true
   },
   "outputs": [
    {
     "name": "stdout",
     "output_type": "stream",
     "text": [
      "cuda:0\n"
     ]
    }
   ],
   "source": [
    "device = torch.device(\"cuda:0\" if torch.cuda.is_available() else \"cpu\")\n",
    "print(device)"
   ]
  },
  {
   "cell_type": "code",
   "execution_count": 4,
   "metadata": {},
   "outputs": [],
   "source": [
    "# MNIST data loader\n",
    "transform=transforms.Compose([transforms.Resize((32, 32)), transforms.ToTensor()])\n",
    "\n",
    "trainset = torchvision.datasets.MNIST(root='./data/mnist', train=True, download=True, transform=transform)\n",
    "trainloader = torch.utils.data.DataLoader(trainset, batch_size=32, shuffle=True, num_workers=4)\n",
    "\n",
    "testset = torchvision.datasets.MNIST(root='./data/mnist', train=False, download=True, transform=transform)\n",
    "testloader = torch.utils.data.DataLoader(testset, batch_size=32, num_workers=4)\n"
   ]
  },
  {
   "cell_type": "code",
   "execution_count": 5,
   "metadata": {},
   "outputs": [],
   "source": [
    "class SC_Weight_Clipper(object):\n",
    "    \n",
    "    def __init__(self, frequency=1, representation=\"bipolar\", constraint=\"clip\", bits=8):\n",
    "        self.frequency = frequency\n",
    "        # \"unipolar\" or \"bipolar\"\n",
    "        self.representation = representation\n",
    "        # \"clip\" or \"norm\"\n",
    "        self.constraint = constraint\n",
    "        self.bits = bits\n",
    "        self.scale = 2 ** self.bits\n",
    "\n",
    "    def __call__(self, module):\n",
    "        # filter the variables to get the ones you want\n",
    "        if self.frequency > 1:\n",
    "            self.constraint = \"clip\"\n",
    "        else:\n",
    "            self.constraint = \"norm\"\n",
    "                \n",
    "        if hasattr(module, 'weight'):\n",
    "            w = module.weight.data\n",
    "            self.clipping(w)\n",
    "        \n",
    "        if hasattr(module, 'bias'):\n",
    "            w = module.bias.data\n",
    "            self.clipping(w)\n",
    "        \n",
    "        self.frequency = self.frequency + 1\n",
    "            \n",
    "    def clipping(self, w):\n",
    "        if self.representation == \"unipolar\":\n",
    "            if self.constraint == \"norm\":\n",
    "                w.sub_(torch.min(w)).div_(torch.max(w) - torch.min(w)) \\\n",
    "                .mul_(self.scale).round_().clamp_(0.0,self.scale).div_(self.scale)\n",
    "            elif self.constraint == \"clip\":\n",
    "                w.clamp_(0.0,1.0) \\\n",
    "                .mul_(self.scale).round_().clamp_(0.0,self.scale).div_(self.scale)\n",
    "            else:\n",
    "                raise TypeError(\"unknown constraint type '{}' in SC_Weight, should be 'clip' or 'norm'\"\n",
    "                                .format(self.constraint))\n",
    "        elif self.representation == \"bipolar\":\n",
    "            if self.constraint == \"norm\":\n",
    "                w.sub_(torch.min(w)).div_(torch.max(w) - torch.min(w)).mul_(2).sub_(1) \\\n",
    "                .mul_(self.scale/2).round_().clamp_(-self.scale/2,self.scale/2).div_(self.scale/2)\n",
    "            elif self.constraint == \"clip\":\n",
    "                w.clamp_(-1.0,1.0) \\\n",
    "                .mul_(self.scale/2).round_().clamp_(-self.scale/2,self.scale/2).div_(self.scale/2)\n",
    "            else:\n",
    "                raise TypeError(\"unknown constraint type '{}' in SC_Weight, should be 'clip' or 'norm'\"\n",
    "                                .format(self.constraint))\n",
    "        else:\n",
    "            raise TypeError(\"unknown representation type '{}' in SC_Weight, should be 'unipolar' or 'bipolar'\"\n",
    "                            .format(self.representation))"
   ]
  },
  {
   "cell_type": "code",
   "execution_count": 6,
   "metadata": {},
   "outputs": [
    {
     "data": {
      "text/plain": [
       "LeNet(\n",
       "  (conv1): Conv2d(1, 6, kernel_size=(5, 5), stride=(1, 1))\n",
       "  (conv2): Conv2d(6, 16, kernel_size=(5, 5), stride=(1, 1))\n",
       "  (fc1): Linear(in_features=400, out_features=120, bias=True)\n",
       "  (fc2): Linear(in_features=120, out_features=84, bias=True)\n",
       "  (fc3): Linear(in_features=84, out_features=10, bias=True)\n",
       ")"
      ]
     },
     "execution_count": 6,
     "metadata": {},
     "output_type": "execute_result"
    }
   ],
   "source": [
    " class LeNet(nn.Module):\n",
    "\n",
    "    def __init__(self):\n",
    "        super(LeNet, self).__init__()\n",
    "        # 1 input image channel, 6 output channels, 5x5 square convolution\n",
    "        # kernel\n",
    "        self.conv1 = nn.Conv2d(1, 6, 5)\n",
    "        self.conv2 = nn.Conv2d(6, 16, 5)\n",
    "        # an affine operation: y = Wx + b\n",
    "        self.fc1 = nn.Linear(16 * 5 * 5, 120)  # 6*6 from image dimension\n",
    "        self.fc2 = nn.Linear(120, 84)\n",
    "        self.fc3 = nn.Linear(84, 10)\n",
    "\n",
    "    def forward(self, x):\n",
    "        # Max pooling over a (2, 2) window\n",
    "        x = self.conv1(x)\n",
    "        x = torch.clamp(x, -1, 1)\n",
    "        x = F.avg_pool2d(x, (2, 2))\n",
    "        x = F.relu(x)\n",
    "        # If the size is a square you can only specify a single number\n",
    "        x = self.conv2(x)\n",
    "        x = torch.clamp(x, -1, 1)\n",
    "        x = F.avg_pool2d(x, (2, 2))\n",
    "        x = F.relu(x)\n",
    "        \n",
    "        x = x.view(-1, self.num_flat_features(x))\n",
    "        x = F.relu(self.fc1(x))\n",
    "        x = torch.clamp(x, -1, 1)\n",
    "        x = F.relu(self.fc2(x))\n",
    "        x = torch.clamp(x, -1, 1)\n",
    "        x = self.fc3(x)\n",
    "        return x\n",
    "\n",
    "    def num_flat_features(self, x):\n",
    "        size = x.size()[1:]  # all dimensions except the batch dimension\n",
    "        num_features = 1\n",
    "        for s in size:\n",
    "            num_features *= s\n",
    "        return num_features\n",
    "\n",
    "\n",
    "net = LeNet()\n",
    "net.to(device)"
   ]
  },
  {
   "cell_type": "code",
   "execution_count": 7,
   "metadata": {},
   "outputs": [],
   "source": [
    "num_bits = 8\n",
    "clipper = SC_Weight_Clipper(bits = num_bits)"
   ]
  },
  {
   "cell_type": "code",
   "execution_count": 8,
   "metadata": {},
   "outputs": [
    {
     "name": "stdout",
     "output_type": "stream",
     "text": [
      "==========================================================\n",
      "          Kernel Shape     Output Shape  Params  Mult-Adds\n",
      "Layer                                                     \n",
      "0_conv1   [1, 6, 5, 5]   [1, 6, 28, 28]     156     117600\n",
      "1_conv2  [6, 16, 5, 5]  [1, 16, 10, 10]    2416     240000\n",
      "2_fc1       [400, 120]         [1, 120]   48120      48000\n",
      "3_fc2        [120, 84]          [1, 84]   10164      10080\n",
      "4_fc3         [84, 10]          [1, 10]     850        840\n",
      "----------------------------------------------------------\n",
      "                      Totals\n",
      "Total params           61706\n",
      "Trainable params       61706\n",
      "Non-trainable params       0\n",
      "Mult-Adds             416520\n",
      "==========================================================\n"
     ]
    },
    {
     "data": {
      "text/html": [
       "<div>\n",
       "<style scoped>\n",
       "    .dataframe tbody tr th:only-of-type {\n",
       "        vertical-align: middle;\n",
       "    }\n",
       "\n",
       "    .dataframe tbody tr th {\n",
       "        vertical-align: top;\n",
       "    }\n",
       "\n",
       "    .dataframe thead th {\n",
       "        text-align: right;\n",
       "    }\n",
       "</style>\n",
       "<table border=\"1\" class=\"dataframe\">\n",
       "  <thead>\n",
       "    <tr style=\"text-align: right;\">\n",
       "      <th></th>\n",
       "      <th>Kernel Shape</th>\n",
       "      <th>Output Shape</th>\n",
       "      <th>Params</th>\n",
       "      <th>Mult-Adds</th>\n",
       "    </tr>\n",
       "    <tr>\n",
       "      <th>Layer</th>\n",
       "      <th></th>\n",
       "      <th></th>\n",
       "      <th></th>\n",
       "      <th></th>\n",
       "    </tr>\n",
       "  </thead>\n",
       "  <tbody>\n",
       "    <tr>\n",
       "      <th>0_conv1</th>\n",
       "      <td>[1, 6, 5, 5]</td>\n",
       "      <td>[1, 6, 28, 28]</td>\n",
       "      <td>156</td>\n",
       "      <td>117600</td>\n",
       "    </tr>\n",
       "    <tr>\n",
       "      <th>1_conv2</th>\n",
       "      <td>[6, 16, 5, 5]</td>\n",
       "      <td>[1, 16, 10, 10]</td>\n",
       "      <td>2416</td>\n",
       "      <td>240000</td>\n",
       "    </tr>\n",
       "    <tr>\n",
       "      <th>2_fc1</th>\n",
       "      <td>[400, 120]</td>\n",
       "      <td>[1, 120]</td>\n",
       "      <td>48120</td>\n",
       "      <td>48000</td>\n",
       "    </tr>\n",
       "    <tr>\n",
       "      <th>3_fc2</th>\n",
       "      <td>[120, 84]</td>\n",
       "      <td>[1, 84]</td>\n",
       "      <td>10164</td>\n",
       "      <td>10080</td>\n",
       "    </tr>\n",
       "    <tr>\n",
       "      <th>4_fc3</th>\n",
       "      <td>[84, 10]</td>\n",
       "      <td>[1, 10]</td>\n",
       "      <td>850</td>\n",
       "      <td>840</td>\n",
       "    </tr>\n",
       "  </tbody>\n",
       "</table>\n",
       "</div>"
      ],
      "text/plain": [
       "          Kernel Shape     Output Shape  Params  Mult-Adds\n",
       "Layer                                                     \n",
       "0_conv1   [1, 6, 5, 5]   [1, 6, 28, 28]     156     117600\n",
       "1_conv2  [6, 16, 5, 5]  [1, 16, 10, 10]    2416     240000\n",
       "2_fc1       [400, 120]         [1, 120]   48120      48000\n",
       "3_fc2        [120, 84]          [1, 84]   10164      10080\n",
       "4_fc3         [84, 10]          [1, 10]     850        840"
      ]
     },
     "execution_count": 8,
     "metadata": {},
     "output_type": "execute_result"
    }
   ],
   "source": [
    "summary(net,torch.zeros((1, 1, 32, 32)).to(device))"
   ]
  },
  {
   "cell_type": "code",
   "execution_count": 9,
   "metadata": {},
   "outputs": [],
   "source": [
    "# dir(net.conv1.state_dict)"
   ]
  },
  {
   "cell_type": "code",
   "execution_count": 10,
   "metadata": {},
   "outputs": [],
   "source": [
    "criterion = nn.CrossEntropyLoss()\n",
    "optimizer = optim.Adam(net.parameters(), lr=2e-3)"
   ]
  },
  {
   "cell_type": "code",
   "execution_count": 11,
   "metadata": {},
   "outputs": [
    {
     "name": "stdout",
     "output_type": "stream",
     "text": [
      "Train - Epoch 0, Loss: 0.209888, Test Accuracy: 53.720000 %\n",
      "Train - Epoch 1, Loss: 0.038772, Test Accuracy: 97.660000 %\n",
      "Train - Epoch 2, Loss: 0.018083, Test Accuracy: 97.760000 %\n",
      "Train - Epoch 3, Loss: 0.048829, Test Accuracy: 98.140000 %\n",
      "Train - Epoch 4, Loss: 0.210549, Test Accuracy: 98.180000 %\n",
      "Train - Epoch 5, Loss: 0.004517, Test Accuracy: 98.000000 %\n",
      "Train - Epoch 6, Loss: 0.016496, Test Accuracy: 98.190000 %\n",
      "Train - Epoch 7, Loss: 0.042651, Test Accuracy: 98.000000 %\n",
      "Train - Epoch 8, Loss: 0.003387, Test Accuracy: 98.250000 %\n",
      "Train - Epoch 9, Loss: 0.026164, Test Accuracy: 98.390000 %\n",
      "Train - Epoch 10, Loss: 0.135902, Test Accuracy: 98.250000 %\n",
      "Train - Epoch 11, Loss: 0.304066, Test Accuracy: 98.180000 %\n",
      "Train - Epoch 12, Loss: 0.038085, Test Accuracy: 98.380000 %\n",
      "Train - Epoch 13, Loss: 0.001468, Test Accuracy: 97.920000 %\n",
      "Train - Epoch 14, Loss: 0.012932, Test Accuracy: 98.530000 %\n",
      "Train - Epoch 15, Loss: 0.121262, Test Accuracy: 98.410000 %\n",
      "Finished Training\n"
     ]
    }
   ],
   "source": [
    "for epoch in range(16):  # loop over the dataset multiple times\n",
    "\n",
    "    running_loss = 0.0\n",
    "    for i, data in enumerate(trainloader, 0):\n",
    "        # get the inputs; data is a list of [inputs, labels]\n",
    "        inputs, labels = data[0].to(device), data[1].to(device)\n",
    "        # zero the parameter gradients\n",
    "        optimizer.zero_grad()\n",
    "\n",
    "        # forward + backward + optimize\n",
    "        outputs = net(inputs)\n",
    "        loss = criterion(outputs, labels)\n",
    "\n",
    "        loss.backward()\n",
    "        optimizer.step()\n",
    "        \n",
    "    net.apply(clipper)\n",
    "    correct = 0\n",
    "    total = 0\n",
    "    with torch.no_grad():\n",
    "        for data in testloader:\n",
    "            images, labels = data[0].to(device), data[1].to(device)\n",
    "            outputs = net(images)\n",
    "            _, predicted = torch.max(outputs.data, 1)\n",
    "            total += labels.size(0)\n",
    "            correct += (predicted == labels).sum().item()\n",
    "\n",
    "    # print('Accuracy of the network on the 10000 test images: %f %%' % (\n",
    "    #     100 * correct / total))\n",
    "    print('Train - Epoch %d, Loss: %f, Test Accuracy: %f %%' \\\n",
    "          % (epoch, loss.detach().cpu().item(), 100 * correct / total))\n",
    "\n",
    "print('Finished Training')"
   ]
  },
  {
   "cell_type": "code",
   "execution_count": 12,
   "metadata": {},
   "outputs": [],
   "source": [
    "model_path = cwd+\"/saved_model_state_dict\"+\"_\"+str(num_bits)\n",
    "torch.save(net.state_dict(), model_path)"
   ]
  },
  {
   "cell_type": "code",
   "execution_count": 13,
   "metadata": {},
   "outputs": [
    {
     "name": "stdout",
     "output_type": "stream",
     "text": [
      "conv1 weight\n",
      "-0.953125 ~ 1.0\n",
      "\n",
      "conv1 bias\n",
      "-1.0 ~ 0.125\n",
      "\n",
      "conv2 weight\n",
      "-1.0 ~ 0.796875\n",
      "\n",
      "conv2 bias\n",
      "-0.3671875 ~ 0.09375\n",
      "\n",
      "fc1 weight\n",
      "-1.0 ~ 1.0\n",
      "\n",
      "fc1 bias\n",
      "-0.515625 ~ 0.359375\n",
      "\n",
      "fc2 weight\n",
      "-1.0 ~ 1.0\n",
      "\n",
      "fc2 bias\n",
      "-0.359375 ~ 0.21875\n",
      "\n",
      "fc3 weight\n",
      "-1.0 ~ 1.0\n",
      "\n",
      "fc3 bias\n",
      "-0.265625 ~ 0.171875\n"
     ]
    }
   ],
   "source": [
    "print(\"conv1 weight\")\n",
    "print(torch.min(net.conv1.weight).item(), \"~\", torch.max(net.conv1.weight).item())\n",
    "print()\n",
    "print(\"conv1 bias\")\n",
    "print(torch.min(net.conv1.bias).item(), \"~\", torch.max(net.conv1.bias).item())\n",
    "print()\n",
    "\n",
    "print(\"conv2 weight\")\n",
    "print(torch.min(net.conv2.weight).item(), \"~\", torch.max(net.conv2.weight).item())\n",
    "print()\n",
    "print(\"conv2 bias\")\n",
    "print(torch.min(net.conv2.bias).item(), \"~\", torch.max(net.conv2.bias).item())\n",
    "print()\n",
    "\n",
    "print(\"fc1 weight\")\n",
    "print(torch.min(net.fc1.weight).item(), \"~\", torch.max(net.fc1.weight).item())\n",
    "print()\n",
    "print(\"fc1 bias\")\n",
    "print( torch.min(net.fc1.bias).item(), \"~\", torch.max(net.fc1.bias).item())\n",
    "print()\n",
    "\n",
    "print(\"fc2 weight\")\n",
    "print(torch.min(net.fc2.weight).item(), \"~\", torch.max(net.fc2.weight).item())\n",
    "print()\n",
    "print(\"fc2 bias\")\n",
    "print(torch.min(net.fc2.bias).item(), \"~\", torch.max(net.fc2.bias).item())\n",
    "print()\n",
    "\n",
    "print(\"fc3 weight\")\n",
    "print(torch.min(net.fc3.weight).item(), \"~\", torch.max(net.fc3.weight).item())\n",
    "print()\n",
    "print(\"fc3 bias\")\n",
    "print(torch.min(net.fc3.bias).item(), \"~\", torch.max(net.fc3.bias).item())\n"
   ]
  },
  {
   "cell_type": "code",
   "execution_count": 14,
   "metadata": {},
   "outputs": [
    {
     "data": {
      "text/plain": [
       "LeNet(\n",
       "  (conv1): Conv2d(1, 6, kernel_size=(5, 5), stride=(1, 1))\n",
       "  (conv2): Conv2d(6, 16, kernel_size=(5, 5), stride=(1, 1))\n",
       "  (fc1): Linear(in_features=400, out_features=120, bias=True)\n",
       "  (fc2): Linear(in_features=120, out_features=84, bias=True)\n",
       "  (fc3): Linear(in_features=84, out_features=10, bias=True)\n",
       ")"
      ]
     },
     "execution_count": 14,
     "metadata": {},
     "output_type": "execute_result"
    }
   ],
   "source": [
    "model = LeNet()\n",
    "model.load_state_dict(torch.load(model_path))\n",
    "model.eval()\n",
    "model.to(device)"
   ]
  },
  {
   "cell_type": "code",
   "execution_count": 15,
   "metadata": {},
   "outputs": [
    {
     "name": "stdout",
     "output_type": "stream",
     "text": [
      "Accuracy of the network on the 10000 test images: 98.410000 %\n"
     ]
    }
   ],
   "source": [
    "model.apply(clipper)\n",
    "correct = 0\n",
    "total = 0\n",
    "with torch.no_grad():\n",
    "    for data in testloader:\n",
    "        images, labels = data[0].to(device), data[1].to(device)\n",
    "        outputs = model(images)\n",
    "        _, predicted = torch.max(outputs.data, 1)\n",
    "        total += labels.size(0)\n",
    "        correct += (predicted == labels).sum().item()\n",
    "\n",
    "print('Accuracy of the network on the 10000 test images: %f %%' % (\n",
    "    100 * correct / total))"
   ]
  },
  {
   "cell_type": "code",
   "execution_count": null,
   "metadata": {},
   "outputs": [],
   "source": []
  }
 ],
 "metadata": {
  "kernelspec": {
   "display_name": "Python 3",
   "language": "python",
   "name": "python3"
  },
  "language_info": {
   "codemirror_mode": {
    "name": "ipython",
    "version": 3
   },
   "file_extension": ".py",
   "mimetype": "text/x-python",
   "name": "python",
   "nbconvert_exporter": "python",
   "pygments_lexer": "ipython3",
   "version": "3.7.3"
  }
 },
 "nbformat": 4,
 "nbformat_minor": 2
}
